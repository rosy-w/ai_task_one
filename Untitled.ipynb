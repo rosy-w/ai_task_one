{
 "cells": [
  {
   "cell_type": "code",
   "execution_count": 1,
   "id": "48d8f2e2",
   "metadata": {},
   "outputs": [
    {
     "name": "stdout",
     "output_type": "stream",
     "text": [
      "Hello ucs\n"
     ]
    }
   ],
   "source": [
    "print(\"Hello ucs\")"
   ]
  },
  {
   "cell_type": "code",
   "execution_count": 7,
   "id": "31e84f01",
   "metadata": {},
   "outputs": [
    {
     "data": {
      "text/plain": [
       "{'Strathmore Sports Complex': 730,\n",
       " 'Siwaka': 405,\n",
       " 'Phase 1 entrance A': 380,\n",
       " 'Phase 1 entrance B': 280,\n",
       " 'STC': 213,\n",
       " 'Phase 2': 210,\n",
       " 'J1': 500,\n",
       " 'Phase 3': 160,\n",
       " 'Mada': 630,\n",
       " 'Parking Lot': 0}"
      ]
     },
     "execution_count": 7,
     "metadata": {},
     "output_type": "execute_result"
    }
   ],
   "source": [
    "paths = {\n",
    "    \"Strathmore Sports Complex\": 730,\n",
    "    \"Siwaka\": 405,\n",
    "    \"Phase 1 entrance A\": 380,\n",
    "    \"Phase 1 entrance B\": 280,\n",
    "    \"STC\": 213,\n",
    "    \"Phase 2\": 210,\n",
    "    \"J1\": 500,\n",
    "    \"Phase 3\": 160,\n",
    "    \"Mada\": 630,\n",
    "    \"Parking Lot\": 0\n",
    "}\n",
    "\n",
    "paths"
   ]
  },
  {
   "cell_type": "code",
   "execution_count": 4,
   "id": "91c24781",
   "metadata": {},
   "outputs": [],
   "source": [
    "class Node:\n",
    "    def __init__(self, value, cost):\n",
    "        self.value = value\n",
    "        self.cost = cost"
   ]
  },
  {
   "cell_type": "code",
   "execution_count": 2,
   "id": "9af7e36c",
   "metadata": {},
   "outputs": [],
   "source": [
    "class UCS:\n",
    "    def __init__(self, graph, start, goal):\n",
    "        self.graph = graph\n",
    "        self.start = start\n",
    "        self.goal = goal\n",
    "        self.visited = []\n",
    "    \n",
    "    \n",
    "    def search(self):\n",
    "        pass\n"
   ]
  },
  {
   "cell_type": "code",
   "execution_count": 3,
   "id": "86c8052e",
   "metadata": {},
   "outputs": [],
   "source": [
    "ucs = UCS(None, None, None)\n",
    "ucs.search()"
   ]
  },
  {
   "cell_type": "code",
   "execution_count": 17,
   "id": "766c2ce8",
   "metadata": {},
   "outputs": [
    {
     "data": {
      "text/plain": [
       "'Strathmore Sports Complex'"
      ]
     },
     "execution_count": 17,
     "metadata": {},
     "output_type": "execute_result"
    }
   ],
   "source": [
    "nodes = []\n",
    "\n",
    "for key in paths:\n",
    "    node = Node(key, paths[key])\n",
    "    nodes.append(node)\n",
    "\n",
    "nodes[0].value"
   ]
  },
  {
   "cell_type": "code",
   "execution_count": 18,
   "id": "7dca147a",
   "metadata": {},
   "outputs": [
    {
     "data": {
      "image/png": "[encoded data removed]",
      "text/plain": [
       "<Figure size 432x288 with 1 Axes>"
      ]
     },
     "metadata": {},
     "output_type": "display_data"
    }
   ],
   "source": [
    "import networkx as nx\n",
    "import matplotlib.pyplot as plt\n",
    "\n",
    "G = nx.Graph()\n",
    "nodes=[\"SportsComplex\",\"Siwaka\",\"Ph.1A\",\"Ph.1B\",\"STC\",\"Phase2\",\"J1\",\"Phase3\",\"Mada\",\"ParkingLot\"]\n",
    "node_sizes=[1000,1000,1000,1000,1000,1000,1000,1000,1000,1000]\n",
    "G.add_nodes_from(nodes)\n",
    "G.nodes()#confirm nodes\n",
    "\n",
    "#Add Edges and their weights\n",
    "G.add_edge(\"SportsComplex\",\"Siwaka\",weight=\"450\")\n",
    "G.add_edge(\"Siwaka\",\"Ph.1A\",weight=\"10\")\n",
    "G.add_edge(\"Siwaka\",\"Ph.1B\",weight=\"230\")\n",
    "G.add_edge(\"Ph.1A\",\"Ph.1B\",weight=\"100\")\n",
    "G.add_edge(\"Ph.1A\",\"Mada\",weight=\"850\")\n",
    "G.add_edge(\"Ph.1B\",\"STC\",weight=\"50\")\n",
    "G.add_edge(\"Ph.1B\",\"Phase2\",weight=\"112\")\n",
    "G.add_edge(\"STC\",\"ParkingLot\",weight=\"250\")\n",
    "G.add_edge(\"Phase2\",\"J1\",weight=\"600\")\n",
    "G.add_edge(\"Phase2\",\"Phase3\",weight=\"500\")\n",
    "G.add_edge(\"Phase2\",\"STC\",weight=\"50\")\n",
    "G.add_edge(\"J1\",\"Mada\",weight=\"200\")\n",
    "G.add_edge(\"Mada\",\"ParkingLot\",weight=\"700\")\n",
    "G.add_edge(\"Phase3\",\"ParkingLot\",weight=\"350\")\n",
    "\n",
    "#position the nodes to resemble Nairobis map\n",
    "G.nodes[\"SportsComplex\"]['pos']=(-4,2)\n",
    "G.nodes[\"Siwaka\"]['pos']=(-2,2)\n",
    "G.nodes[\"Ph.1A\"]['pos']=(0,2)\n",
    "G.nodes[\"Ph.1B\"]['pos']=(0,0)\n",
    "G.nodes[\"Phase2\"]['pos']=(2,0)\n",
    "G.nodes[\"J1\"]['pos']=(4,0)\n",
    "G.nodes[\"Mada\"]['pos']=(6,0)\n",
    "G.nodes[\"STC\"]['pos']=(0,-2)\n",
    "G.nodes[\"Phase3\"]['pos']=(4,-2)\n",
    "G.nodes[\"ParkingLot\"]['pos']=(4,-4)\n",
    "\n",
    "#store all positions in a variable\n",
    "node_pos = nx.get_node_attributes(G,'pos')\n",
    "\n",
    "#color the nodes in the route_bfs\n",
    "node_col = 'darkturquoise'\n",
    "edge_col = 'peru'\n",
    "\n",
    "arc_weight=nx.get_edge_attributes(G,'weight')\n",
    "nx.draw_networkx(G, node_pos,node_color= node_col,font_size=8, node_size=node_sizes)\n",
    "nx.draw_networkx_edges(G, node_pos,width=2,edge_color= edge_col)\n",
    "#nx.draw_networkx_edge_labels(G, node_pos,edge_color= edge_col, edge_labels=arc_weight)\n",
    "\n",
    "nx.draw_networkx_edge_labels(G, node_pos, edge_labels=arc_weight)\n",
    "plt.axis('off')\n",
    "plt.show()\n",
    "\n"
   ]
  },
  {
   "cell_type": "code",
   "execution_count": null,
   "id": "8ed75bd7",
   "metadata": {},
   "outputs": [],
   "source": []
  }
 ],
 "metadata": {
  "kernelspec": {
   "display_name": "Python 3 (ipykernel)",
   "language": "python",
   "name": "python3"
  },
  "language_info": {
   "codemirror_mode": {
    "name": "ipython",
    "version": 3
   },
   "file_extension": ".py",
   "mimetype": "text/x-python",
   "name": "python",
   "nbconvert_exporter": "python",
   "pygments_lexer": "ipython3",
   "version": "3.9.7"
  }
 },
 "nbformat": 4,
 "nbformat_minor": 5
}
